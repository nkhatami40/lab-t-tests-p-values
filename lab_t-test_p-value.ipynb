{
 "cells": [
  {
   "cell_type": "code",
   "execution_count": 4,
   "id": "1f8e761e",
   "metadata": {},
   "outputs": [],
   "source": [
    "import numpy as np\n",
    "import pandas as pd\n",
    "import math\n",
    "from scipy.stats import t\n",
    "import statistics"
   ]
  },
  {
   "cell_type": "markdown",
   "id": "8afb023a",
   "metadata": {},
   "source": [
    "**Defining the hypothesis**\n",
    "\n",
    "null hypothesis: The new machine is faster than the old machine.\n",
    "\n",
    "alternative hypothesis: The new machine is slower than the old machine (one tail)."
   ]
  },
  {
   "cell_type": "code",
   "execution_count": 17,
   "id": "c61c00c9",
   "metadata": {},
   "outputs": [],
   "source": [
    "#creating samples:\n",
    "new_machine = [42.1, 41, 41.3, 41.8, 42.4, 42.8, 43.2, 42.3, 41.8, 42.7]\n",
    "old_machine = [42.7, 43.6, 43.8, 43.3, 42.5, 43.5, 43.1, 41.7, 44, 44.1]"
   ]
  },
  {
   "cell_type": "code",
   "execution_count": 18,
   "id": "7c935b64",
   "metadata": {},
   "outputs": [
    {
     "name": "stdout",
     "output_type": "stream",
     "text": [
      "new machine mean:  42.14\n",
      "old machine mean:  43.230000000000004\n"
     ]
    }
   ],
   "source": [
    "new_machine_mean = statistics.mean(new_machine)\n",
    "old_machine_mean = statistics.mean(old_machine)\n",
    "print(\"new machine mean: \" ,new_machine_mean, end='\\n') \n",
    "print(\"old machine mean: \", old_machine_mean)"
   ]
  },
  {
   "cell_type": "markdown",
   "id": "6a1349be",
   "metadata": {},
   "source": [
    "Only by checking the means, we can see that there isn't a significant difference between the 2 samples. However, we need to study this more by measuring the test statistics."
   ]
  },
  {
   "cell_type": "code",
   "execution_count": 19,
   "id": "901c1be1",
   "metadata": {},
   "outputs": [
    {
     "data": {
      "text/plain": [
       "Ttest_indResult(statistic=-3.3972307061176026, pvalue=0.0032111425007745158)"
      ]
     },
     "execution_count": 19,
     "metadata": {},
     "output_type": "execute_result"
    }
   ],
   "source": [
    "#Calculating the t-test between the 2 samples:\n",
    "from scipy.stats import ttest_ind\n",
    "\n",
    "ttest_ind(new_machine, old_machine)"
   ]
  },
  {
   "cell_type": "markdown",
   "id": "4512af4d",
   "metadata": {},
   "source": [
    "alpha = 0.05, df = 10 - 1 = 9, one-tail: critical value = -1.8331.\n",
    "The p_value (0.0032 < 0.05). Therefore, we reject the null hypothesis and the new machine doesn't work faster than the old machine. \n",
    "\n",
    "Considering the test statistics 3.397 > 1.8331, we reject the null hypothesis!!!!"
   ]
  }
 ],
 "metadata": {
  "kernelspec": {
   "display_name": "Python 3 (ipykernel)",
   "language": "python",
   "name": "python3"
  },
  "language_info": {
   "codemirror_mode": {
    "name": "ipython",
    "version": 3
   },
   "file_extension": ".py",
   "mimetype": "text/x-python",
   "name": "python",
   "nbconvert_exporter": "python",
   "pygments_lexer": "ipython3",
   "version": "3.9.13"
  }
 },
 "nbformat": 4,
 "nbformat_minor": 5
}
